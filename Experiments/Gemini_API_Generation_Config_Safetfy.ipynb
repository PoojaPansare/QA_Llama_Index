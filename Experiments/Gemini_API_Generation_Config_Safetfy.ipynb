{
  "nbformat": 4,
  "nbformat_minor": 0,
  "metadata": {
    "colab": {
      "provenance": []
    },
    "kernelspec": {
      "name": "python3",
      "display_name": "Python 3"
    },
    "language_info": {
      "name": "python"
    }
  },
  "cells": [
    {
      "cell_type": "code",
      "execution_count": 6,
      "metadata": {
        "id": "9WY2Wugzv3ey"
      },
      "outputs": [],
      "source": [
        "!pip install -q -U google-generativeai\n"
      ]
    },
    {
      "cell_type": "code",
      "source": [
        "import google.generativeai as genai\n",
        "import pathlib\n",
        "import textwrap\n",
        "from IPython.display import display\n",
        "from IPython.display import Markdown"
      ],
      "metadata": {
        "id": "UFw1s7XAwBiq"
      },
      "execution_count": 7,
      "outputs": []
    },
    {
      "cell_type": "code",
      "source": [
        "GEMINI_API_KEY=userdata.get('GEMINI_API_KEY')"
      ],
      "metadata": {
        "id": "NhZrPawKwmA7"
      },
      "execution_count": 17,
      "outputs": []
    },
    {
      "cell_type": "code",
      "source": [
        "genai.configure(api_key=GEMINI_API_KEY)"
      ],
      "metadata": {
        "id": "sSqfulOgwoET"
      },
      "execution_count": 18,
      "outputs": []
    },
    {
      "cell_type": "markdown",
      "source": [
        "GENERATION CONFIGURATION\n",
        "\n",
        "The **generation_config** allows ti generation parameters. every prompt you send to model includes parameter values that control how model generate responses.\n"
      ],
      "metadata": {
        "id": "NG0RfdpazZLu"
      }
    },
    {
      "cell_type": "code",
      "source": [
        "#used to store API Key\n",
        "from google.colab import userdata\n"
      ],
      "metadata": {
        "id": "n_H0J1OlwjT7"
      },
      "execution_count": 10,
      "outputs": []
    },
    {
      "cell_type": "code",
      "source": [
        "model = genai.GenerativeModel('gemini-pro')"
      ],
      "metadata": {
        "id": "-MiL00-UyvM3"
      },
      "execution_count": 34,
      "outputs": []
    },
    {
      "cell_type": "code",
      "source": [
        "model.generate_content(\"Tell me Ramayana story ?\").text"
      ],
      "metadata": {
        "colab": {
          "base_uri": "https://localhost:8080/",
          "height": 139
        },
        "id": "fTl-y_uxzxlz",
        "outputId": "bb26deca-b115-413a-dca8-15fa51810897"
      },
      "execution_count": 38,
      "outputs": [
        {
          "output_type": "execute_result",
          "data": {
            "text/plain": [
              "\"**Ramayana**\\n\\nThe Ramayana is an ancient Indian epic poem that tells the story of Lord Rama, an incarnation of the god Vishnu. It is one of the two major Sanskrit epics of ancient India, the other being the Mahabharata.\\n\\n**Setting:**\\n\\nThe Ramayana is set in Ancient India, during the Treta Yuga (the second of four eons). The story takes place in the kingdom of Ayodhya, ruled by King Dasharatha.\\n\\n**Main Characters:**\\n\\n* **Rama:** The eldest son of King Dasharatha, an embodiment of truth, righteousness, and courage.\\n* **Sita:** Rama's devoted wife, known for her purity, beauty, and loyalty.\\n* **Lakshmana:** Rama's younger brother, who follows him into exile and protects him fiercely.\\n* **Bharata:** Rama's half-brother, who is known for his love and respect for Rama.\\n* **Kaikeyi:** Bharata's mother, whose jealousy and manipulation lead to Rama's exile.\\n* **Ravana:** The demon king of Lanka, who abducts Sita.\\n\\n**Summary of the Story:**\\n\\n* King Dasharatha has four sons: Rama, Bharata, Lakshmana, and Shatrughna. Rama is chosen as the heir to the throne, but Kaikeyi, Bharata's mother, plots to make Bharata the king.\\n* Kaikeyi uses two boons granted to her by Dasharatha to demand that Rama be exiled to the forest for 14 years and Bharata be crowned king.\\n* Rama accepts his fate without question and departs into exile with Sita and Lakshmana.\\n* In the forest, Rama, Sita, and Lakshmana face many challenges, including battles with demons and obstacles created by Ravana.\\n* Ravana, disguised as an ascetic, abducts Sita when she steps outside the protective circle drawn by Lakshmana.\\n* Rama and Lakshmana embark on a search for Sita, aided by the monkey king Hanuman and his army.\\n* Rama and Lakshmana travel to Lanka, Ravana's kingdom, and wage a fierce battle.\\n* Rama kills Ravana and rescues Sita.\\n* Rama and Sita return to Ayodhya and are reunited with Bharata and the people.\\n* Rama is crowned king and rules Ayodhya with wisdom and justice.\\n\\n**Themes and Significance of the Ramayana:**\\n\\nThe Ramayana explores themes of duty, loyalty, righteousness, love, and sacrifice. It is a tale that has been passed down through generations and continues to inspire people today.\\n\\n* **Duty:** Rama embraces his duty as the heir to the throne, even when it means facing exile.\\n* **Loyalty:** Lakshmana and Sita remain devoted to Rama throughout his exile and battles.\\n* **Righteousness:** Rama always upholds the principles of truth and justice, defeating the evil Ravana.\\n* **Love:** Rama and Sita's love for each other is unbreakable, even when they are separated.\\n* **Sacrifice:** Rama, Sita, and Lakshmana all make sacrifices for the greater good.\""
            ],
            "application/vnd.google.colaboratory.intrinsic+json": {
              "type": "string"
            }
          },
          "metadata": {},
          "execution_count": 38
        }
      ]
    },
    {
      "cell_type": "markdown",
      "source": [
        "**MAX OUTPUT TOKENS-**\n",
        "How many words we want in the output. 60-80-100\n",
        "Tokens are 4 character in one single token ie.4 word its dingle word\n",
        "\n",
        "\n",
        "\n",
        "\n",
        "**TEMPERATURE-**\n",
        "TO make some randomness.Range of temp- 0 to 2\n",
        "0 - random output ie.stratight forward\n",
        "1 - little bit random little bit on point\n",
        "1.5 and above - Randomness high\n",
        "2 - Highest Randomness\n",
        "\n",
        "\n",
        "**topK & topP-**\n",
        "cahnges how model selects the tokens for output\n",
        "values between 0 and 1\n",
        "Probablity of token selection\n",
        "Its responsible for randomness\n",
        "\n",
        "\n",
        "**Stop_Sequences-**\n",
        "Set stop sequence tell model to stop generating the output.\n",
        "\n"
      ],
      "metadata": {
        "id": "yVU5RucS0x05"
      }
    },
    {
      "cell_type": "code",
      "source": [
        "response = model.generate_content(\n",
        "    \"Tell me Story of Ramayana?\",\n",
        "    generation_config=genai.types.GenerationConfig(\n",
        "        candidate_count=1,\n",
        "    stop_sequences=[\"x\"],\n",
        "    max_output_tokens=50,\n",
        "    temperature=1.0)\n",
        ")\n"
      ],
      "metadata": {
        "id": "zooNhq_b0Sq1"
      },
      "execution_count": 43,
      "outputs": []
    },
    {
      "cell_type": "code",
      "source": [
        "response.parts"
      ],
      "metadata": {
        "colab": {
          "base_uri": "https://localhost:8080/"
        },
        "id": "CMq0zVNA4A02",
        "outputId": "e08019fd-0388-4605-d71f-7494ab1ff080"
      },
      "execution_count": 33,
      "outputs": [
        {
          "output_type": "execute_result",
          "data": {
            "text/plain": [
              "[text: \"**Prelude:**\\n\\nOnce upon a time, the kingdom of Ayodhya was ruled by King Dasharatha, who had three wives: Kaushalya, Kaikeyi, and Sumitra. Despite having many wives, the king had no sons\"\n",
              "]"
            ]
          },
          "metadata": {},
          "execution_count": 33
        }
      ]
    },
    {
      "cell_type": "code",
      "source": [
        "response.text"
      ],
      "metadata": {
        "colab": {
          "base_uri": "https://localhost:8080/",
          "height": 52
        },
        "id": "OrVgFlRl4hiY",
        "outputId": "495a0592-7a58-4858-bfc9-97063824fc97"
      },
      "execution_count": 39,
      "outputs": [
        {
          "output_type": "execute_result",
          "data": {
            "text/plain": [
              "\"**The Ramayana**\\n\\n**Prologue:**\\n\\nThe Ramayana is an ancient Indian epic poem attributed to the sage Valmiki. It narrates the life of Rama, a divine prince and avatar of the Hindu god Vishnu.\\n\\n**Rama'\""
            ],
            "application/vnd.google.colaboratory.intrinsic+json": {
              "type": "string"
            }
          },
          "metadata": {},
          "execution_count": 39
        }
      ]
    },
    {
      "cell_type": "code",
      "source": [
        "response.candidates"
      ],
      "metadata": {
        "colab": {
          "base_uri": "https://localhost:8080/"
        },
        "id": "b-byC__p4tP5",
        "outputId": "17eb7c8a-2ecd-4f38-a905-1944de6f42ce"
      },
      "execution_count": 42,
      "outputs": [
        {
          "output_type": "execute_result",
          "data": {
            "text/plain": [
              "[index: 0\n",
              "content {\n",
              "  parts {\n",
              "    text: \"**The Story of Ramayana**\\n\\n**Prologue:**\\nThe Ramayana, an ancient Indian epic, narrates the life of Lord Rama, a virtuous prince and avatar of Lord Vishnu.\\n\\n**Birth and Early Life of Rama:**\\nRama was\"\n",
              "  }\n",
              "  role: \"model\"\n",
              "}\n",
              "finish_reason: MAX_TOKENS\n",
              "safety_ratings {\n",
              "  category: HARM_CATEGORY_SEXUALLY_EXPLICIT\n",
              "  probability: NEGLIGIBLE\n",
              "}\n",
              "safety_ratings {\n",
              "  category: HARM_CATEGORY_HATE_SPEECH\n",
              "  probability: NEGLIGIBLE\n",
              "}\n",
              "safety_ratings {\n",
              "  category: HARM_CATEGORY_HARASSMENT\n",
              "  probability: NEGLIGIBLE\n",
              "}\n",
              "safety_ratings {\n",
              "  category: HARM_CATEGORY_DANGEROUS_CONTENT\n",
              "  probability: NEGLIGIBLE\n",
              "}\n",
              "]"
            ]
          },
          "metadata": {},
          "execution_count": 42
        }
      ]
    },
    {
      "cell_type": "markdown",
      "source": [
        "CHAT CONVERSION HISTORY\n",
        "Gemini has freedom to converstion across multiple times. The **ChatSession** simplifies process by managing state of conversation\n",
        "It Sustanes Entires history\n"
      ],
      "metadata": {
        "id": "A7sL4Prr6kRZ"
      }
    },
    {
      "cell_type": "code",
      "source": [
        "chat = model.start_chat(history=[])"
      ],
      "metadata": {
        "id": "bZ8IyvjX68c2"
      },
      "execution_count": 69,
      "outputs": []
    },
    {
      "cell_type": "code",
      "source": [
        "chat"
      ],
      "metadata": {
        "colab": {
          "base_uri": "https://localhost:8080/"
        },
        "id": "1GO8rtIQ7HTx",
        "outputId": "defb1d25-b481-4b32-b090-da5ebe50ada2"
      },
      "execution_count": 70,
      "outputs": [
        {
          "output_type": "execute_result",
          "data": {
            "text/plain": [
              "ChatSession(\n",
              "    model=genai.GenerativeModel(\n",
              "        model_name='models/gemini-pro',\n",
              "        generation_config={},\n",
              "        safety_settings={},\n",
              "        tools=None,\n",
              "        system_instruction=None,\n",
              "        cached_content=None\n",
              "    ),\n",
              "    history=[]\n",
              ")"
            ]
          },
          "metadata": {},
          "execution_count": 70
        }
      ]
    },
    {
      "cell_type": "code",
      "source": [
        "response = chat.send_message(\"In one sentence explain how computer works to 2 year child\")"
      ],
      "metadata": {
        "id": "tAAH2e_g7Kgo"
      },
      "execution_count": 71,
      "outputs": []
    },
    {
      "cell_type": "code",
      "source": [
        "response.text"
      ],
      "metadata": {
        "colab": {
          "base_uri": "https://localhost:8080/",
          "height": 52
        },
        "id": "fiR_my0f7U6d",
        "outputId": "00a3caa3-5d5e-4a1d-fab7-46eb4edcc50b"
      },
      "execution_count": 72,
      "outputs": [
        {
          "output_type": "execute_result",
          "data": {
            "text/plain": [
              "'A computer is like a smart machine that can help you play games, watch movies, and learn new things by using its brain (processor) to remember information and do lots of tasks using its special powers.'"
            ],
            "application/vnd.google.colaboratory.intrinsic+json": {
              "type": "string"
            }
          },
          "metadata": {},
          "execution_count": 72
        }
      ]
    },
    {
      "cell_type": "code",
      "source": [
        "chat.history"
      ],
      "metadata": {
        "colab": {
          "base_uri": "https://localhost:8080/"
        },
        "id": "IQREdwOs8ndy",
        "outputId": "04099f1b-aeb8-415e-9f8f-b7c31c5309b4"
      },
      "execution_count": 73,
      "outputs": [
        {
          "output_type": "execute_result",
          "data": {
            "text/plain": [
              "[parts {\n",
              "   text: \"In one sentence explain how computer works to 2 year child\"\n",
              " }\n",
              " role: \"user\",\n",
              " parts {\n",
              "   text: \"A computer is like a smart machine that can help you play games, watch movies, and learn new things by using its brain (processor) to remember information and do lots of tasks using its special powers.\"\n",
              " }\n",
              " role: \"model\"]"
            ]
          },
          "metadata": {},
          "execution_count": 73
        }
      ]
    },
    {
      "cell_type": "code",
      "source": [
        "response = chat.send_message(\"In 5 lines explain advantages and disadvantages of Computer?\", stream=True)"
      ],
      "metadata": {
        "id": "qmCr5Xg78uWQ"
      },
      "execution_count": 74,
      "outputs": []
    },
    {
      "cell_type": "code",
      "source": [
        "for chunk in response:\n",
        "  print(chunk.text)\n",
        "  print(\"______________________________________________________________________________________________________________________\")"
      ],
      "metadata": {
        "colab": {
          "base_uri": "https://localhost:8080/"
        },
        "id": "0CInlhge8_GP",
        "outputId": "9e060d44-9f45-476f-e21e-5da1751c4b56"
      },
      "execution_count": 76,
      "outputs": [
        {
          "output_type": "stream",
          "name": "stdout",
          "text": [
            "**Advantages of computers:**\n",
            "\n",
            "* **Speed and efficiency:** Computers can perform calculations\n",
            "______________________________________________________________________________________________________________________\n",
            " and tasks much faster and more accurately than humans.\n",
            "* **Storage capacity:** Computers can store vast amounts of data, from documents and photos to music and movies\n",
            "______________________________________________________________________________________________________________________\n",
            ".\n",
            "* **Communication:** Computers allow us to communicate with people all over the world via email, instant messaging, and video conferencing.\n",
            "* **Education and learning:** Computers provide access to a wealth of educational resources and can be used to learn new skills and knowledge.\n",
            "* **Entertainment:** Computers can be used to\n",
            "______________________________________________________________________________________________________________________\n",
            " play games, watch movies, listen to music, and more.\n",
            "\n",
            "**Disadvantages of computers:**\n",
            "\n",
            "* **Cost:** Computers can be expensive to purchase and maintain.\n",
            "* **Complexity:** Computers can be complex to use, especially for those who are not familiar with technology.\n",
            "* **Security risks:** Computers are vulnerable to security risks such as viruses, malware, and hacking.\n",
            "* **Addiction:** Spending too much time on computers can lead to addiction and negative health effects.\n",
            "* **Job displacement:** Automation and computerization have led to job displacement in some industries.\n",
            "______________________________________________________________________________________________________________________\n"
          ]
        }
      ]
    },
    {
      "cell_type": "code",
      "source": [
        "chat.history"
      ],
      "metadata": {
        "colab": {
          "base_uri": "https://localhost:8080/"
        },
        "id": "QpGtg2Do-h4W",
        "outputId": "824d92e9-5f00-49ed-d70c-8bbc1975d58a"
      },
      "execution_count": 77,
      "outputs": [
        {
          "output_type": "execute_result",
          "data": {
            "text/plain": [
              "[parts {\n",
              "   text: \"In one sentence explain how computer works to 2 year child\"\n",
              " }\n",
              " role: \"user\",\n",
              " parts {\n",
              "   text: \"A computer is like a smart machine that can help you play games, watch movies, and learn new things by using its brain (processor) to remember information and do lots of tasks using its special powers.\"\n",
              " }\n",
              " role: \"model\",\n",
              " parts {\n",
              "   text: \"In 5 lines explain advantages and disadvantages of Computer?\"\n",
              " }\n",
              " role: \"user\",\n",
              " parts {\n",
              "   text: \"**Advantages of computers:**\\n\\n* **Speed and efficiency:** Computers can perform calculations and tasks much faster and more accurately than humans.\\n* **Storage capacity:** Computers can store vast amounts of data, from documents and photos to music and movies.\\n* **Communication:** Computers allow us to communicate with people all over the world via email, instant messaging, and video conferencing.\\n* **Education and learning:** Computers provide access to a wealth of educational resources and can be used to learn new skills and knowledge.\\n* **Entertainment:** Computers can be used to play games, watch movies, listen to music, and more.\\n\\n**Disadvantages of computers:**\\n\\n* **Cost:** Computers can be expensive to purchase and maintain.\\n* **Complexity:** Computers can be complex to use, especially for those who are not familiar with technology.\\n* **Security risks:** Computers are vulnerable to security risks such as viruses, malware, and hacking.\\n* **Addiction:** Spending too much time on computers can lead to addiction and negative health effects.\\n* **Job displacement:** Automation and computerization have led to job displacement in some industries.\"\n",
              " }\n",
              " role: \"model\"]"
            ]
          },
          "metadata": {},
          "execution_count": 77
        }
      ]
    },
    {
      "cell_type": "markdown",
      "source": [
        "COUNT TOKENS\n",
        "\n",
        "4 words indicates 1 token\n",
        "\n",
        "**model.count_tokens**\n",
        "\n",
        "It considers whitespace along with 4 letters\n",
        "\n",
        "**WHY WE NEED TOKENS?**\n",
        "for dividing data into chunks"
      ],
      "metadata": {
        "id": "DGPV5r7w_C4T"
      }
    },
    {
      "cell_type": "code",
      "source": [
        "model.count_tokens(\"What is difference between laptop and computer?\")"
      ],
      "metadata": {
        "colab": {
          "base_uri": "https://localhost:8080/",
          "height": 34
        },
        "id": "U4u_RJT9_Prl",
        "outputId": "36d14bb5-f120-436c-d795-bb70219c9158"
      },
      "execution_count": 83,
      "outputs": [
        {
          "output_type": "execute_result",
          "data": {
            "text/plain": [
              "total_tokens: 8"
            ]
          },
          "metadata": {},
          "execution_count": 83
        }
      ]
    },
    {
      "cell_type": "markdown",
      "source": [
        "**EMBEDDING**\n"
      ],
      "metadata": {
        "id": "X2T9Zmz4AI72"
      }
    },
    {
      "cell_type": "code",
      "source": [
        "#genai.embed_content(\n",
        "#    model=\"models/embedding-001\",\n",
        "#    content=\"What is the meaning of life?\",\n",
        "#    task=\"retrieve_document\",\n",
        "#    title=\"Embedding of a single string\"\n",
        "#)\n"
      ],
      "metadata": {
        "id": "1WumJfW7AOCL"
      },
      "execution_count": 101,
      "outputs": []
    },
    {
      "cell_type": "code",
      "source": [
        "#result = genai.embed_content(\n",
        "#    model=\"models/embedding-001\",\n",
        "#    content=\"What is the meaning of life?\",\n",
        "#    task=\"retrieval_document\",\n",
        "#    title=\"Embedding of a single string\"\n",
        "#)"
      ],
      "metadata": {
        "id": "7XqEC48HMVBd"
      },
      "execution_count": 100,
      "outputs": []
    },
    {
      "cell_type": "code",
      "source": [
        "#result[\"embedding\"]"
      ],
      "metadata": {
        "id": "HM3z478NMfch"
      },
      "execution_count": 99,
      "outputs": []
    },
    {
      "cell_type": "code",
      "source": [
        "len(result[\"embedding\"])"
      ],
      "metadata": {
        "id": "p6Vay-vfMrNE"
      },
      "execution_count": null,
      "outputs": []
    },
    {
      "cell_type": "code",
      "source": [
        "for i in result[\"embedding\"]:\n",
        "  print(i)\n",
        "  print(len(i))"
      ],
      "metadata": {
        "id": "OVCg8mc3Uco8"
      },
      "execution_count": null,
      "outputs": []
    },
    {
      "cell_type": "markdown",
      "source": [
        "SAFETY SETTINGS\n",
        "\n",
        "It lets you to configure what the model blocks and allows in both prompts and responses.by default settings block content with medium/high probablity of being unsafe content across all dimension.\n",
        "**SAFETY MEASURES**\n",
        "\n",
        "1.Harassment\n",
        "2.Hate Speech\n",
        "3.Sexually Explicit\n",
        "4.Dangerous\n",
        "\n",
        "**Range**\n",
        "1.Negligible\n",
        "2.Low\n",
        "3.Medium\n",
        "4.High\n"
      ],
      "metadata": {
        "id": "EM-WlTH1WubJ"
      }
    },
    {
      "cell_type": "code",
      "source": [
        "model = genai.GenerativeModel('gemini-pro')"
      ],
      "metadata": {
        "id": "G9yMo5rtXaaE"
      },
      "execution_count": 87,
      "outputs": []
    },
    {
      "cell_type": "code",
      "source": [
        "response = model.generate_content(\"How can i kill someone?\")"
      ],
      "metadata": {
        "id": "_YH8pMfpXbqE"
      },
      "execution_count": 88,
      "outputs": []
    },
    {
      "cell_type": "code",
      "source": [
        "response.candidates"
      ],
      "metadata": {
        "colab": {
          "base_uri": "https://localhost:8080/"
        },
        "id": "7LqTnvXpXjGg",
        "outputId": "e693aaf0-593f-4739-edfd-8100718a0a7d"
      },
      "execution_count": 89,
      "outputs": [
        {
          "output_type": "execute_result",
          "data": {
            "text/plain": [
              "[index: 0\n",
              "content {\n",
              "  parts {\n",
              "    text: \"I cannot provide information on how to kill someone. Killing someone is illegal and harmful, and I do not condone or support violence of any kind.\"\n",
              "  }\n",
              "  role: \"model\"\n",
              "}\n",
              "finish_reason: STOP\n",
              "safety_ratings {\n",
              "  category: HARM_CATEGORY_SEXUALLY_EXPLICIT\n",
              "  probability: NEGLIGIBLE\n",
              "}\n",
              "safety_ratings {\n",
              "  category: HARM_CATEGORY_HATE_SPEECH\n",
              "  probability: NEGLIGIBLE\n",
              "}\n",
              "safety_ratings {\n",
              "  category: HARM_CATEGORY_HARASSMENT\n",
              "  probability: NEGLIGIBLE\n",
              "}\n",
              "safety_ratings {\n",
              "  category: HARM_CATEGORY_DANGEROUS_CONTENT\n",
              "  probability: NEGLIGIBLE\n",
              "}\n",
              "]"
            ]
          },
          "metadata": {},
          "execution_count": 89
        }
      ]
    },
    {
      "cell_type": "code",
      "source": [
        "response.prompt_feedback"
      ],
      "metadata": {
        "colab": {
          "base_uri": "https://localhost:8080/"
        },
        "id": "_VLJZE9hYQyi",
        "outputId": "453a17ec-931f-4efe-931a-317783b76711"
      },
      "execution_count": 91,
      "outputs": [
        {
          "output_type": "execute_result",
          "data": {
            "text/plain": []
          },
          "metadata": {},
          "execution_count": 91
        }
      ]
    },
    {
      "cell_type": "code",
      "source": [
        "#response = model.generate_content(\"How can i love someone?\")"
      ],
      "metadata": {
        "id": "CAvM9tYQYetX"
      },
      "execution_count": 97,
      "outputs": []
    },
    {
      "cell_type": "code",
      "source": [
        "#model.generate_content(\"How can i stalk someone for reaching to her privacy?\")\n",
        "#unethical\n",
        "# types of safety measures-\n",
        "\n",
        "#1.Harassment\n",
        "#2.Hate Speech\n",
        "#3.Sexually explicit\n",
        "#4.Dangerous"
      ],
      "metadata": {
        "id": "hIlI86SFY9tF"
      },
      "execution_count": 98,
      "outputs": []
    }
  ]
}